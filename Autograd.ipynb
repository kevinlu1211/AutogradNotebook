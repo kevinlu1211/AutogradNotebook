{
 "cells": [
  {
   "cell_type": "code",
   "execution_count": 2,
   "metadata": {
    "collapsed": true
   },
   "outputs": [],
   "source": [
    "import torch\n",
    "import torch.nn as nn\n",
    "from torch.autograd import Variable\n",
    "from collections import OrderedDict\n",
    "import torch.nn.functional as F\n",
    "from torch.optim import Adam\n",
    "import time\n",
    "from tqdm import tqdm"
   ]
  },
  {
   "cell_type": "code",
   "execution_count": 3,
   "metadata": {},
   "outputs": [],
   "source": [
    "class MyNet(nn.Module):\n",
    "    def __init__(self):\n",
    "        super().__init__()\n",
    "        self.features = nn.Sequential(OrderedDict())\n",
    "        self.features.add_module(\"conv1\", nn.Conv2d(1, 2, kernel_size=2, stride=1, bias=False))\n",
    "        self.features.add_module(\"conv2\", nn.Conv2d(2, 2, kernel_size=2, stride=1, bias=False))   \n",
    "        self.classifier = nn.Linear(2, 1, bias=False)\n",
    "        \n",
    "    def forward(self, inp):          \n",
    "        # some code\n",
    "        features = self.features(inp)\n",
    "        features = features.view(1, -1)\n",
    "        output = self.classifier(features)\n",
    "        output = F.sigmoid(output)\n",
    "        return output "
   ]
  },
  {
   "cell_type": "code",
   "execution_count": 4,
   "metadata": {},
   "outputs": [],
   "source": [
    "my_net = MyNet().cuda()"
   ]
  },
  {
   "cell_type": "code",
   "execution_count": 5,
   "metadata": {
    "collapsed": true
   },
   "outputs": [],
   "source": [
    "class ExtractFeatures(nn.Module):\n",
    "    def __init__(self):\n",
    "        super().__init__()\n",
    "        \n",
    "    def forward(self, inp):\n",
    "        kernel_size = (inp.size()[2], inp.size()[3])  \n",
    "        self.pooled_features = F.avg_pool2d(inp, kernel_size)\n",
    "        return inp\n",
    "    \n",
    "class MyNet2(nn.Module):\n",
    "    def __init__(self, net):\n",
    "        super().__init__()\n",
    "        self.features = nn.Sequential(OrderedDict())\n",
    "        self.all_pooled_features = []\n",
    "        self.attribute_weights = nn.Linear(4, 100000, bias=False)\n",
    "        count = 0\n",
    "        for c in net.children():\n",
    "            if isinstance(c, nn.Sequential):\n",
    "                for mod in c:\n",
    "                    self.features.add_module(f\"conv_{count}\", mod)\n",
    "                    pooled_features = ExtractFeatures()\n",
    "                    self.features.add_module(f\"global_pooled_features_{count}\", pooled_features)\n",
    "                    self.all_pooled_features.append(pooled_features)\n",
    "                    count += 1\n",
    "        \n",
    "    def forward(self, inp):\n",
    "    \n",
    "        _ = self.features(inp)\n",
    "        all_pooled_features = [mod.pooled_features for mod in self.all_pooled_features]\n",
    "        all_pooled_features = torch.cat(all_pooled_features, dim=1).squeeze()\n",
    "        all_pooled_features = all_pooled_features.unsqueeze(0)\n",
    "        scores = self.attribute_weights(all_pooled_features)\n",
    "        return scores"
   ]
  },
  {
   "cell_type": "code",
   "execution_count": 6,
   "metadata": {},
   "outputs": [],
   "source": [
    "my_net2 = MyNet2(my_net).cuda()"
   ]
  },
  {
   "cell_type": "code",
   "execution_count": 7,
   "metadata": {},
   "outputs": [],
   "source": [
    "optimizer = Adam(my_net2.attribute_weights.parameters())\n",
    "criterion = nn.MSELoss(reduce=False)"
   ]
  },
  {
   "cell_type": "code",
   "execution_count": 9,
   "metadata": {},
   "outputs": [
    {
     "name": "stderr",
     "output_type": "stream",
     "text": [
      "  2%|▏         | 24/1000 [00:12<08:12,  1.98it/s]"
     ]
    },
    {
     "ename": "KeyboardInterrupt",
     "evalue": "",
     "output_type": "error",
     "traceback": [
      "\u001b[0;31m---------------------------------------------------------------------------\u001b[0m",
      "\u001b[0;31mKeyboardInterrupt\u001b[0m                         Traceback (most recent call last)",
      "\u001b[0;32m<ipython-input-9-c71dd57b528d>\u001b[0m in \u001b[0;36m<module>\u001b[0;34m()\u001b[0m\n\u001b[1;32m      8\u001b[0m     \u001b[0mtorch\u001b[0m\u001b[0;34m.\u001b[0m\u001b[0mautograd\u001b[0m\u001b[0;34m.\u001b[0m\u001b[0mbackward\u001b[0m\u001b[0;34m(\u001b[0m\u001b[0mloss\u001b[0m\u001b[0;34m,\u001b[0m \u001b[0mweights\u001b[0m\u001b[0;34m)\u001b[0m\u001b[0;34m\u001b[0m\u001b[0m\n\u001b[1;32m      9\u001b[0m     \u001b[0moptimizer\u001b[0m\u001b[0;34m.\u001b[0m\u001b[0mstep\u001b[0m\u001b[0;34m(\u001b[0m\u001b[0;34m)\u001b[0m\u001b[0;34m\u001b[0m\u001b[0m\n\u001b[0;32m---> 10\u001b[0;31m     \u001b[0mtime\u001b[0m\u001b[0;34m.\u001b[0m\u001b[0msleep\u001b[0m\u001b[0;34m(\u001b[0m\u001b[0;36m0.5\u001b[0m\u001b[0;34m)\u001b[0m\u001b[0;34m\u001b[0m\u001b[0m\n\u001b[0m",
      "\u001b[0;31mKeyboardInterrupt\u001b[0m: "
     ]
    }
   ],
   "source": [
    "inp = Variable(torch.rand(1, 1, 3, 3)).cuda()\n",
    "target = Variable(torch.rand(1, 100000)).cuda()\n",
    "weights = Variable(torch.rand(1, 100000)).cuda()\n",
    "for i in tqdm(range(1000)):\n",
    "    output = my_net2(inp)\n",
    "    loss = criterion(output, target)\n",
    "    loss = torch.mean(loss, dim=0).unsqueeze(0)\n",
    "    torch.autograd.backward(loss, weights)\n",
    "    optimizer.step()\n",
    "    time.sleep(0.5)"
   ]
  }
 ],
 "metadata": {
  "kernelspec": {
   "display_name": "pytorch_0.3",
   "language": "python",
   "name": "pytorch_0.3"
  },
  "language_info": {
   "codemirror_mode": {
    "name": "ipython",
    "version": 3
   },
   "file_extension": ".py",
   "mimetype": "text/x-python",
   "name": "python",
   "nbconvert_exporter": "python",
   "pygments_lexer": "ipython3",
   "version": "3.6.2"
  }
 },
 "nbformat": 4,
 "nbformat_minor": 2
}
